{
 "cells": [
  {
   "cell_type": "code",
   "execution_count": 5,
   "metadata": {},
   "outputs": [
    {
     "name": "stdout",
     "output_type": "stream",
     "text": [
      "Creating new Ultralytics Settings v0.0.6 file  \n",
      "View Ultralytics Settings with 'yolo settings' or at 'C:\\Users\\migue\\AppData\\Roaming\\Ultralytics\\settings.json'\n",
      "Update Settings with 'yolo settings key=value', i.e. 'yolo settings runs_dir=path/to/dir'. For help see https://docs.ultralytics.com/quickstart/#ultralytics-settings.\n"
     ]
    }
   ],
   "source": [
    "import os\n",
    "import cv2 as cv\n",
    "from ultralytics import YOLO\n",
    "import numpy as np"
   ]
  },
  {
   "cell_type": "code",
   "execution_count": 6,
   "metadata": {},
   "outputs": [],
   "source": [
    "def putText(img, string, orig=(5,16), color=(255,255,255), div=2, scale=1, thickness=1):\n",
    "    (x,y) = orig\n",
    "    if div > 1:\n",
    "        (w,h), b = cv.getTextSize(string, cv.FONT_HERSHEY_PLAIN, scale, thickness)\n",
    "        img[y-h-4:y+b, x-3:x+w+3] //= div\n",
    "    cv.putText(img, string, (x,y), cv.FONT_HERSHEY_PLAIN, scale, color, thickness, cv.LINE_AA)\n"
   ]
  },
  {
   "cell_type": "code",
   "execution_count": 7,
   "metadata": {},
   "outputs": [
    {
     "name": "stdout",
     "output_type": "stream",
     "text": [
      "\n",
      "image 1/1 c:\\Users\\migue\\OneDrive\\Escritorio\\TFM\\dataset\\1\\1.png: 640x384 1 ball, 60.8ms\n",
      "Speed: 3.0ms preprocess, 60.8ms inference, 1.0ms postprocess per image at shape (1, 3, 640, 384)\n"
     ]
    }
   ],
   "source": [
    "# Carga un modelo preentrenado YOLOv8 (por ejemplo, 'yolov8n.pt')\n",
    "model = YOLO('./balltracking/kaggle/working/runs/detect/train/weights/best.pt')\n",
    "\n",
    "# Carga una imagen en la que deseas realizar predicciones (reemplaza 'imagen.jpg' con la ruta de tu imagen)\n",
    "image_path = 'dataset/1/1.png'\n",
    "results = model(image_path)  # Devuelve una lista de objetos Results"
   ]
  },
  {
   "cell_type": "code",
   "execution_count": 8,
   "metadata": {},
   "outputs": [],
   "source": [
    "# Dibuja las cajas delimitadoras en la imagen\n",
    "for result in results:\n",
    "    boxes = result.boxes.data  # Utiliza el atributo boxes para obtener las coordenadas de las cajas\n",
    "    conteo = len(boxes)\n",
    "    black_bg = np.zeros_like(results[0].orig_img)\n",
    "    putText(result.orig_img, f\"Limones: {conteo}\", (10, 30))\n",
    "    for box in boxes:\n",
    "        x1, y1, x2, y2 = map(int, box[:4])\n",
    "\n",
    "        label = \"Ball\"\n",
    "        cv.rectangle(result.orig_img, (x1, y1), (x2, y2), (255, 255, 255), 2)\n",
    "        putText(result.orig_img, f\"{label}\", (x1, y1 - 10))\n",
    "\n"
   ]
  },
  {
   "cell_type": "code",
   "execution_count": 9,
   "metadata": {},
   "outputs": [],
   "source": [
    "\n",
    "cv.imwrite('imagen_detectada.jpg', result.orig_img)\n",
    "# Muestra la imagen con las cajas dibujadas\n",
    "cv.imshow('Imagen con cajas', result.orig_img)\n",
    "cv.waitKey(0)\n",
    "cv.destroyAllWindows()"
   ]
  }
 ],
 "metadata": {
  "kernelspec": {
   "display_name": ".venv",
   "language": "python",
   "name": "python3"
  },
  "language_info": {
   "codemirror_mode": {
    "name": "ipython",
    "version": 3
   },
   "file_extension": ".py",
   "mimetype": "text/x-python",
   "name": "python",
   "nbconvert_exporter": "python",
   "pygments_lexer": "ipython3",
   "version": "3.12.9"
  }
 },
 "nbformat": 4,
 "nbformat_minor": 2
}
