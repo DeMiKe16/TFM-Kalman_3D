{
 "cells": [
  {
   "cell_type": "code",
   "execution_count": 1,
   "metadata": {},
   "outputs": [
    {
     "name": "stdout",
     "output_type": "stream",
     "text": [
      "0.5978739240404534\n"
     ]
    }
   ],
   "source": [
    "import numpy as np\n",
    "import cv2 as cv\n",
    "import matplotlib.pyplot as plt\n",
    "\n",
    "from umucv.util import cameraOutline\n",
    "\n",
    "from ipywidgets import interactive\n",
    "\n",
    "def homog(x):\n",
    "    ax = np.array(x)\n",
    "    uc = np.ones(ax.shape[:-1]+(1,))\n",
    "    return np.append(ax,uc,axis=-1)\n",
    "\n",
    "# convierte en coordenadas tradicionales\n",
    "def inhomog(x):\n",
    "    ax = np.array(x)\n",
    "    return ax[..., :-1] / ax[...,[-1]]\n",
    "\n",
    "# juntar columnas\n",
    "def jc(*args):\n",
    "    return np.hstack(args)\n",
    "\n",
    "# aplica una transformación homogénea h a un conjunto\n",
    "# de puntos ordinarios, almacenados como filas \n",
    "def htrans(h,x):\n",
    "    return inhomog(homog(x) @ h.T)\n",
    "\n",
    "def rmsreproj(view, model, transf):\n",
    "    err = view - htrans(transf,model)\n",
    "    return np.sqrt(np.mean(err.flatten()**2))\n",
    "\n",
    "def pose(K, image, model):\n",
    "    ok,rvec,tvec = cv.solvePnP(model, image, K, (0,0,0,0))\n",
    "    if not ok:\n",
    "        return 1e6, None\n",
    "    R,_ = cv.Rodrigues(rvec)\n",
    "    M = K @ jc(R,tvec)\n",
    "    rms = rmsreproj(image,model,M)\n",
    "    return rms, M\n",
    "\n",
    "# Matriz de calibración (ejemplo, completa con los valores reales de tu cámara)\n",
    "K = np.array([[1667, 0, 969], \n",
    "              [0, 1666, 544], \n",
    "              [0, 0, 1]])\n",
    "\n",
    "# Coordenadas de las esquinas del tablero en la imagen (en píxeles)\n",
    "image_points = np.array([\n",
    "    [1395, 286],   # Esquina superior izquierda\n",
    "    [1636, 231],   # Esquina superior derecha\n",
    "    [1637, 415],   # Esquina inferior derecha\n",
    "    [1394, 442]    # Esquina inferior izquierda\n",
    "], dtype='float32')\n",
    "\n",
    "canasta = np.array([\n",
    "    [0, 0, 3.95],   # Esquina superior izquierda\n",
    "    [1.8, 0, 3.95],   # Esquina superior derecha\n",
    "    [1.8, 0, 2.90],   # Esquina inferior derecha\n",
    "    [0, 0, 2.90]    # Esquina inferior izquierda\n",
    "], dtype='float32')\n",
    "\n",
    "esquina = np.array([\n",
    "    [12.5, 0.4, 0],\n",
    "    [-9.5, 0.4, 0],\n",
    "    [-9.5, -20.6,0]\n",
    "], dtype='float32')\n",
    "\n",
    "\n",
    "# Nuevo punto a añadir\n",
    "nuevo_punto = np.array([[0, 0, 3.95]], dtype='float32')\n",
    "\n",
    "# Agregar el nuevo punto\n",
    "canasta_view = np.vstack([canasta, nuevo_punto])\n",
    "\n",
    "# probamos todas las asociaciones de puntos imagen con modelo\n",
    "# y nos quedamos con la que produzca menos error\n",
    "def bestPose(K,view,model):\n",
    "    poses = [ pose(K, v.astype(float), model) for v in rots(view) ]\n",
    "    return sorted(poses,key=lambda p: p[0])[0]\n",
    "\n",
    "def rots(c):\n",
    "    return [np.roll(c,k,0) for k in range(len(c))]\n",
    "\n",
    "err,Me = bestPose(K,image_points,canasta)\n",
    "print(err)\n",
    "\n",
    "pose(K, image_points, canasta)\n",
    "\n",
    "camline = cameraOutline(Me)\n",
    "\n",
    "# Definir el aro (radio estándar de un aro de baloncesto es 0.225 metros)\n",
    "def crear_aro(num_puntos=16):\n",
    "    radio = 0.225  # Radio estándar del aro de baloncesto (en metros)\n",
    "    # El aro se ubica a 3.05 metros de altura y a cierta distancia del tablero\n",
    "    centro_x = 0.9  # Centro del aro (mitad del ancho del tablero)\n",
    "    centro_y = - 0.376  # Distancia que sobresale del tablero\n",
    "    centro_z = 3.05  # Altura reglamentaria\n",
    "    \n",
    "    puntos_aro = []\n",
    "    for i in range(num_puntos):\n",
    "        angulo = 2 * np.pi * i / num_puntos\n",
    "        x = centro_x + radio * np.cos(angulo)\n",
    "        y = centro_y + radio * np.sin(angulo)\n",
    "        z = centro_z\n",
    "        puntos_aro.append([x, y, z])\n",
    "    \n",
    "    # Cerramos el círculo repitiendo el primer punto\n",
    "    puntos_aro.append(puntos_aro[0])\n",
    "    \n",
    "    return np.array(puntos_aro, dtype='float32')\n",
    "\n",
    "# Crear el aro\n",
    "aro = crear_aro()\n",
    "\n",
    "# dibujar una polilínea en 3D\n",
    "def plot3(ax,c,color):\n",
    "    x,y,z = c.T\n",
    "    ax.plot(x,y,z,color)\n",
    "\n",
    "def fun(a=-30, b = 30):\n",
    "    fig = plt.figure(figsize=(8,7))\n",
    "    ax = fig.add_subplot(111, projection='3d')\n",
    "    plot3(ax,canasta_view,'r')\n",
    "    plot3(ax, aro, 'orange')  # Aro en naranja\n",
    "    plot3(ax,camline,'b')\n",
    "    plot3(ax,esquina,'g')\n",
    "    plot3(ax,esquina,'m')\n",
    "    \n",
    "    ax.set_zlim(0, ax.get_zlim()[1])\n",
    "    \n",
    "    ax.set_aspect('equal')\n",
    "    ax.set_xlabel('X'); ax.set_ylabel('Y'); ax.set_zlabel('Z')\n",
    "    ax.view_init(elev=b, azim=a)"
   ]
  },
  {
   "cell_type": "code",
   "execution_count": 2,
   "metadata": {},
   "outputs": [
    {
     "data": {
      "application/vnd.jupyter.widget-view+json": {
       "model_id": "7c577e2dcbc340068d541a7dc7677a7e",
       "version_major": 2,
       "version_minor": 0
      },
      "text/plain": [
       "interactive(children=(IntSlider(value=-30, description='a', max=180, min=-180, step=10), IntSlider(value=30, d…"
      ]
     },
     "execution_count": 2,
     "metadata": {},
     "output_type": "execute_result"
    }
   ],
   "source": [
    "interactive(fun, a = (-180,180,10), b = (0,90,10))"
   ]
  },
  {
   "cell_type": "code",
   "execution_count": 3,
   "metadata": {},
   "outputs": [],
   "source": [
    "from roboflow import Roboflow\n",
    "\n",
    "rf = Roboflow(api_key=\"mf3cQuRUnk6Xaa6GWCNg\")"
   ]
  },
  {
   "cell_type": "code",
   "execution_count": 4,
   "metadata": {},
   "outputs": [
    {
     "name": "stdout",
     "output_type": "stream",
     "text": [
      "loading Roboflow workspace...\n",
      "loading Roboflow project...\n"
     ]
    }
   ],
   "source": [
    "project = rf.workspace(\"tfm-0225l\").project(\"tfm-e54mm\")\n"
   ]
  },
  {
   "cell_type": "code",
   "execution_count": 5,
   "metadata": {},
   "outputs": [
    {
     "ename": "AttributeError",
     "evalue": "'Project' object has no attribute 'upload_dataset'",
     "output_type": "error",
     "traceback": [
      "\u001b[1;31m---------------------------------------------------------------------------\u001b[0m",
      "\u001b[1;31mAttributeError\u001b[0m                            Traceback (most recent call last)",
      "Cell \u001b[1;32mIn[5], line 1\u001b[0m\n\u001b[1;32m----> 1\u001b[0m \u001b[43mproject\u001b[49m\u001b[38;5;241;43m.\u001b[39;49m\u001b[43mupload_dataset\u001b[49m(\u001b[38;5;124m\"\u001b[39m\u001b[38;5;124mC:/Users/TuUsuario/Documents/dataset\u001b[39m\u001b[38;5;124m\"\u001b[39m)\n",
      "\u001b[1;31mAttributeError\u001b[0m: 'Project' object has no attribute 'upload_dataset'"
     ]
    }
   ],
   "source": [
    "project.upload_dataset(\"C:/Users/TuUsuario/Documents/dataset\")"
   ]
  }
 ],
 "metadata": {
  "kernelspec": {
   "display_name": ".venv",
   "language": "python",
   "name": "python3"
  },
  "language_info": {
   "codemirror_mode": {
    "name": "ipython",
    "version": 3
   },
   "file_extension": ".py",
   "mimetype": "text/x-python",
   "name": "python",
   "nbconvert_exporter": "python",
   "pygments_lexer": "ipython3",
   "version": "3.12.9"
  }
 },
 "nbformat": 4,
 "nbformat_minor": 2
}
